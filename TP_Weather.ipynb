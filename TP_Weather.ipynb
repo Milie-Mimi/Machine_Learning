{
 "cells": [
  {
   "cell_type": "markdown",
   "metadata": {},
   "source": [
    "# Exercice complet (1H):\n",
    "Ce travail va donner lieu à des présentations. Le but est de réaliser un notebook par groupe que vous présenterez ensuite aux autres (10 minutes par groupes). Vous devez faire des analyses judicieuses et pertinantes en dégagant du sens des données. Un exemple d'analyse : Vous pouvez calculer des températures par mois et tirer des conclusions de votre analyse (climat tropical ectect). Vour devez analyser les variables séparement et ensemble. N'hésitez pas à utiliser l'intégralité des éléments vue en cours. \n",
    "* Charger le jdd weather et faire des statistiques descriptives completes.\n",
    "* Réaliser des analyses par dates (mois, jours etc)\n",
    "* Réaliser des graphiques pour illustrer vos propos\n",
    "* Pensez a faire des analyses de distribution, des corrélations..."
   ]
  },
  {
   "cell_type": "code",
   "execution_count": 25,
   "metadata": {},
   "outputs": [],
   "source": [
    "import pandas as pd\n",
    "import numpy as np\n",
    "import matplotlib.pyplot as plt\n",
    "import seaborn as sns"
   ]
  },
  {
   "cell_type": "markdown",
   "metadata": {},
   "source": [
    "# Chargement et visualisation du jeu de données Weather"
   ]
  },
  {
   "cell_type": "code",
   "execution_count": 26,
   "metadata": {},
   "outputs": [
    {
     "data": {
      "text/html": [
       "<div>\n",
       "<style scoped>\n",
       "    .dataframe tbody tr th:only-of-type {\n",
       "        vertical-align: middle;\n",
       "    }\n",
       "\n",
       "    .dataframe tbody tr th {\n",
       "        vertical-align: top;\n",
       "    }\n",
       "\n",
       "    .dataframe thead th {\n",
       "        text-align: right;\n",
       "    }\n",
       "</style>\n",
       "<table border=\"1\" class=\"dataframe\">\n",
       "  <thead>\n",
       "    <tr style=\"text-align: right;\">\n",
       "      <th></th>\n",
       "      <th>date</th>\n",
       "      <th>precip_type</th>\n",
       "      <th>temperatureM24</th>\n",
       "      <th>humidity</th>\n",
       "      <th>wind_speed</th>\n",
       "      <th>wind_bearing</th>\n",
       "      <th>visibility</th>\n",
       "      <th>pressure</th>\n",
       "      <th>temperature</th>\n",
       "    </tr>\n",
       "  </thead>\n",
       "  <tbody>\n",
       "    <tr>\n",
       "      <th>0</th>\n",
       "      <td>2005-12-31T23:00:00Z</td>\n",
       "      <td>rain</td>\n",
       "      <td>0.577778</td>\n",
       "      <td>0.89</td>\n",
       "      <td>17.1143</td>\n",
       "      <td>140</td>\n",
       "      <td>9.9820</td>\n",
       "      <td>1016.66</td>\n",
       "      <td>5.422222</td>\n",
       "    </tr>\n",
       "    <tr>\n",
       "      <th>1</th>\n",
       "      <td>2006-01-01T00:00:00Z</td>\n",
       "      <td>rain</td>\n",
       "      <td>1.161111</td>\n",
       "      <td>0.85</td>\n",
       "      <td>16.6152</td>\n",
       "      <td>139</td>\n",
       "      <td>9.9015</td>\n",
       "      <td>1016.15</td>\n",
       "      <td>2.350000</td>\n",
       "    </tr>\n",
       "    <tr>\n",
       "      <th>2</th>\n",
       "      <td>2006-01-01T01:00:00Z</td>\n",
       "      <td>rain</td>\n",
       "      <td>1.666667</td>\n",
       "      <td>0.82</td>\n",
       "      <td>20.2538</td>\n",
       "      <td>140</td>\n",
       "      <td>9.9015</td>\n",
       "      <td>1015.87</td>\n",
       "      <td>5.422222</td>\n",
       "    </tr>\n",
       "    <tr>\n",
       "      <th>3</th>\n",
       "      <td>2006-01-01T02:00:00Z</td>\n",
       "      <td>rain</td>\n",
       "      <td>1.711111</td>\n",
       "      <td>0.82</td>\n",
       "      <td>14.4900</td>\n",
       "      <td>140</td>\n",
       "      <td>9.9015</td>\n",
       "      <td>1015.56</td>\n",
       "      <td>5.905556</td>\n",
       "    </tr>\n",
       "    <tr>\n",
       "      <th>4</th>\n",
       "      <td>2006-01-01T03:00:00Z</td>\n",
       "      <td>rain</td>\n",
       "      <td>1.183333</td>\n",
       "      <td>0.86</td>\n",
       "      <td>13.9426</td>\n",
       "      <td>134</td>\n",
       "      <td>9.9015</td>\n",
       "      <td>1014.98</td>\n",
       "      <td>5.966667</td>\n",
       "    </tr>\n",
       "  </tbody>\n",
       "</table>\n",
       "</div>"
      ],
      "text/plain": [
       "                   date precip_type  temperatureM24  humidity  wind_speed  \\\n",
       "0  2005-12-31T23:00:00Z        rain        0.577778      0.89     17.1143   \n",
       "1  2006-01-01T00:00:00Z        rain        1.161111      0.85     16.6152   \n",
       "2  2006-01-01T01:00:00Z        rain        1.666667      0.82     20.2538   \n",
       "3  2006-01-01T02:00:00Z        rain        1.711111      0.82     14.4900   \n",
       "4  2006-01-01T03:00:00Z        rain        1.183333      0.86     13.9426   \n",
       "\n",
       "   wind_bearing  visibility  pressure  temperature  \n",
       "0           140      9.9820   1016.66     5.422222  \n",
       "1           139      9.9015   1016.15     2.350000  \n",
       "2           140      9.9015   1015.87     5.422222  \n",
       "3           140      9.9015   1015.56     5.905556  \n",
       "4           134      9.9015   1014.98     5.966667  "
      ]
     },
     "execution_count": 26,
     "metadata": {},
     "output_type": "execute_result"
    }
   ],
   "source": [
    "weather = pd.read_csv(\"weather.csv\", sep = ',') \n",
    "weather.head()"
   ]
  },
  {
   "cell_type": "markdown",
   "metadata": {},
   "source": [
    "# Caractéristiques du dataframe"
   ]
  },
  {
   "cell_type": "code",
   "execution_count": 74,
   "metadata": {},
   "outputs": [
    {
     "name": "stdout",
     "output_type": "stream",
     "text": [
      "<class 'pandas.core.frame.DataFrame'>\n",
      "RangeIndex: 96429 entries, 0 to 96428\n",
      "Data columns (total 12 columns):\n",
      " #   Column          Non-Null Count  Dtype              \n",
      "---  ------          --------------  -----              \n",
      " 0   date            96429 non-null  datetime64[ns, UTC]\n",
      " 1   precip_type     95912 non-null  object             \n",
      " 2   temperatureM24  96429 non-null  float64            \n",
      " 3   humidity        96429 non-null  float64            \n",
      " 4   wind_speed      96429 non-null  float64            \n",
      " 5   wind_bearing    96429 non-null  int64              \n",
      " 6   visibility      96429 non-null  float64            \n",
      " 7   pressure        96429 non-null  float64            \n",
      " 8   temperature     96429 non-null  float64            \n",
      " 9   year            96429 non-null  int64              \n",
      " 10  month           96429 non-null  int64              \n",
      " 11  quarter         96429 non-null  int64              \n",
      "dtypes: datetime64[ns, UTC](1), float64(6), int64(4), object(1)\n",
      "memory usage: 8.8+ MB\n"
     ]
    }
   ],
   "source": [
    "weather.info()\n",
    "\n",
    "# 9 variables / pas de Nan / 96 429 lignes / variable date au format string"
   ]
  },
  {
   "cell_type": "code",
   "execution_count": 28,
   "metadata": {},
   "outputs": [
    {
     "data": {
      "text/plain": [
       "date                0\n",
       "precip_type       517\n",
       "temperatureM24      0\n",
       "humidity            0\n",
       "wind_speed          0\n",
       "wind_bearing        0\n",
       "visibility          0\n",
       "pressure            0\n",
       "temperature         0\n",
       "dtype: int64"
      ]
     },
     "execution_count": 28,
     "metadata": {},
     "output_type": "execute_result"
    }
   ],
   "source": [
    "# Compter le nombre de valeurs manquantes par colonne\n",
    "weather.isna().sum()\n",
    "\n",
    "# 517 valeurs manquantes dans precip_type => nous laissons le jeu de données tel quel"
   ]
  },
  {
   "cell_type": "markdown",
   "metadata": {},
   "source": [
    "# Période analysée"
   ]
  },
  {
   "cell_type": "code",
   "execution_count": 29,
   "metadata": {},
   "outputs": [
    {
     "name": "stdout",
     "output_type": "stream",
     "text": [
      "2005-12-31T23:00:00Z\n",
      "2016-12-30T22:00:00Z\n"
     ]
    }
   ],
   "source": [
    "print(weather.sort_values(\"date\").iloc[0,0])\n",
    "print(weather.sort_values(\"date\", ascending = False).iloc[0,0])"
   ]
  },
  {
   "cell_type": "code",
   "execution_count": 30,
   "metadata": {},
   "outputs": [
    {
     "data": {
      "text/plain": [
       "datetime64[ns, UTC]"
      ]
     },
     "execution_count": 30,
     "metadata": {},
     "output_type": "execute_result"
    }
   ],
   "source": [
    "# La date est au format string, nous la convertissons en format date\n",
    "weather['date'] = pd.to_datetime(weather['date'], format='%Y-%m-%d')\n",
    "weather['date'].dtypes"
   ]
  },
  {
   "cell_type": "markdown",
   "metadata": {},
   "source": [
    "# Principales statistiques"
   ]
  },
  {
   "cell_type": "code",
   "execution_count": 31,
   "metadata": {},
   "outputs": [
    {
     "data": {
      "text/html": [
       "<div>\n",
       "<style scoped>\n",
       "    .dataframe tbody tr th:only-of-type {\n",
       "        vertical-align: middle;\n",
       "    }\n",
       "\n",
       "    .dataframe tbody tr th {\n",
       "        vertical-align: top;\n",
       "    }\n",
       "\n",
       "    .dataframe thead th {\n",
       "        text-align: right;\n",
       "    }\n",
       "</style>\n",
       "<table border=\"1\" class=\"dataframe\">\n",
       "  <thead>\n",
       "    <tr style=\"text-align: right;\">\n",
       "      <th></th>\n",
       "      <th>temperatureM24</th>\n",
       "      <th>humidity</th>\n",
       "      <th>wind_speed</th>\n",
       "      <th>wind_bearing</th>\n",
       "      <th>visibility</th>\n",
       "      <th>pressure</th>\n",
       "      <th>temperature</th>\n",
       "    </tr>\n",
       "  </thead>\n",
       "  <tbody>\n",
       "    <tr>\n",
       "      <th>count</th>\n",
       "      <td>96429.000000</td>\n",
       "      <td>96429.000000</td>\n",
       "      <td>96429.000000</td>\n",
       "      <td>96429.000000</td>\n",
       "      <td>96429.000000</td>\n",
       "      <td>96429.000000</td>\n",
       "      <td>96429.000000</td>\n",
       "    </tr>\n",
       "    <tr>\n",
       "      <th>mean</th>\n",
       "      <td>11.935630</td>\n",
       "      <td>0.734861</td>\n",
       "      <td>10.810652</td>\n",
       "      <td>187.509546</td>\n",
       "      <td>10.348078</td>\n",
       "      <td>1003.231678</td>\n",
       "      <td>11.934684</td>\n",
       "    </tr>\n",
       "    <tr>\n",
       "      <th>std</th>\n",
       "      <td>9.550868</td>\n",
       "      <td>0.195481</td>\n",
       "      <td>6.914372</td>\n",
       "      <td>107.396524</td>\n",
       "      <td>4.192284</td>\n",
       "      <td>116.984147</td>\n",
       "      <td>9.551832</td>\n",
       "    </tr>\n",
       "    <tr>\n",
       "      <th>min</th>\n",
       "      <td>-21.822222</td>\n",
       "      <td>0.000000</td>\n",
       "      <td>0.000000</td>\n",
       "      <td>0.000000</td>\n",
       "      <td>0.000000</td>\n",
       "      <td>0.000000</td>\n",
       "      <td>-21.822222</td>\n",
       "    </tr>\n",
       "    <tr>\n",
       "      <th>25%</th>\n",
       "      <td>4.705556</td>\n",
       "      <td>0.600000</td>\n",
       "      <td>5.828200</td>\n",
       "      <td>116.000000</td>\n",
       "      <td>8.355900</td>\n",
       "      <td>1011.900000</td>\n",
       "      <td>4.694444</td>\n",
       "    </tr>\n",
       "    <tr>\n",
       "      <th>50%</th>\n",
       "      <td>12.011111</td>\n",
       "      <td>0.780000</td>\n",
       "      <td>9.965900</td>\n",
       "      <td>180.000000</td>\n",
       "      <td>10.046400</td>\n",
       "      <td>1016.440000</td>\n",
       "      <td>12.011111</td>\n",
       "    </tr>\n",
       "    <tr>\n",
       "      <th>75%</th>\n",
       "      <td>18.838889</td>\n",
       "      <td>0.890000</td>\n",
       "      <td>14.135800</td>\n",
       "      <td>290.000000</td>\n",
       "      <td>14.812000</td>\n",
       "      <td>1021.090000</td>\n",
       "      <td>18.838889</td>\n",
       "    </tr>\n",
       "    <tr>\n",
       "      <th>max</th>\n",
       "      <td>39.905556</td>\n",
       "      <td>1.000000</td>\n",
       "      <td>63.852600</td>\n",
       "      <td>359.000000</td>\n",
       "      <td>16.100000</td>\n",
       "      <td>1046.380000</td>\n",
       "      <td>39.905556</td>\n",
       "    </tr>\n",
       "  </tbody>\n",
       "</table>\n",
       "</div>"
      ],
      "text/plain": [
       "       temperatureM24      humidity    wind_speed  wind_bearing    visibility  \\\n",
       "count    96429.000000  96429.000000  96429.000000  96429.000000  96429.000000   \n",
       "mean        11.935630      0.734861     10.810652    187.509546     10.348078   \n",
       "std          9.550868      0.195481      6.914372    107.396524      4.192284   \n",
       "min        -21.822222      0.000000      0.000000      0.000000      0.000000   \n",
       "25%          4.705556      0.600000      5.828200    116.000000      8.355900   \n",
       "50%         12.011111      0.780000      9.965900    180.000000     10.046400   \n",
       "75%         18.838889      0.890000     14.135800    290.000000     14.812000   \n",
       "max         39.905556      1.000000     63.852600    359.000000     16.100000   \n",
       "\n",
       "           pressure   temperature  \n",
       "count  96429.000000  96429.000000  \n",
       "mean    1003.231678     11.934684  \n",
       "std      116.984147      9.551832  \n",
       "min        0.000000    -21.822222  \n",
       "25%     1011.900000      4.694444  \n",
       "50%     1016.440000     12.011111  \n",
       "75%     1021.090000     18.838889  \n",
       "max     1046.380000     39.905556  "
      ]
     },
     "execution_count": 31,
     "metadata": {},
     "output_type": "execute_result"
    }
   ],
   "source": [
    "weather.describe()"
   ]
  },
  {
   "cell_type": "markdown",
   "metadata": {},
   "source": [
    "# Jour le plus chaud et le plus froid"
   ]
  },
  {
   "cell_type": "code",
   "execution_count": 71,
   "metadata": {},
   "outputs": [
    {
     "name": "stdout",
     "output_type": "stream",
     "text": [
      "Le jour le plus chaud est le 13598   2007-07-21 13:00:00+00:00\n",
      "Name: date, dtype: datetime64[ns, UTC] \n",
      "\n",
      "Le jour le plus froid est le 53551   2012-02-09 06:00:00+00:00\n",
      "Name: date, dtype: datetime64[ns, UTC]\n"
     ]
    }
   ],
   "source": [
    "hot_day = weather[weather.temperature == weather.temperature.max()]\n",
    "print(f'Le jour le plus chaud est le {hot_day.iloc[:,0]}', \"\\n\")\n",
    "\n",
    "cold_day = weather[weather.temperature == weather.temperature.min()]\n",
    "print(f'Le jour le plus froid est le {cold_day.iloc[:,0]}')"
   ]
  },
  {
   "cell_type": "markdown",
   "metadata": {},
   "source": [
    "# Représentation type de précipitations"
   ]
  },
  {
   "cell_type": "code",
   "execution_count": 32,
   "metadata": {},
   "outputs": [
    {
     "data": {
      "text/plain": [
       "<matplotlib.axes._subplots.AxesSubplot at 0x16381c238e0>"
      ]
     },
     "execution_count": 32,
     "metadata": {},
     "output_type": "execute_result"
    },
    {
     "data": {
      "image/png": "[encoded data removed]",
      "text/plain": [
       "<Figure size 432x288 with 1 Axes>"
      ]
     },
     "metadata": {},
     "output_type": "display_data"
    }
   ],
   "source": [
    "weather['precip_type'].value_counts().plot.pie(autopct = \"%.2f%%\")"
   ]
  },
  {
   "cell_type": "markdown",
   "metadata": {},
   "source": [
    "# Visualisation variables quantitatives"
   ]
  },
  {
   "cell_type": "code",
   "execution_count": 33,
   "metadata": {},
   "outputs": [
    {
     "data": {
      "text/plain": [
       "array([[<matplotlib.axes._subplots.AxesSubplot object at 0x000001638151A3D0>,\n",
       "        <matplotlib.axes._subplots.AxesSubplot object at 0x000001638148F580>,\n",
       "        <matplotlib.axes._subplots.AxesSubplot object at 0x00000163817EE9A0>],\n",
       "       [<matplotlib.axes._subplots.AxesSubplot object at 0x00000163814764C0>,\n",
       "        <matplotlib.axes._subplots.AxesSubplot object at 0x0000016380AB2490>,\n",
       "        <matplotlib.axes._subplots.AxesSubplot object at 0x0000016381900D30>],\n",
       "       [<matplotlib.axes._subplots.AxesSubplot object at 0x0000016381900700>,\n",
       "        <matplotlib.axes._subplots.AxesSubplot object at 0x0000016381996520>,\n",
       "        <matplotlib.axes._subplots.AxesSubplot object at 0x0000016381A47700>]],\n",
       "      dtype=object)"
      ]
     },
     "execution_count": 33,
     "metadata": {},
     "output_type": "execute_result"
    },
    {
     "data": {
      "image/png": "[encoded data removed]",
      "text/plain": [
       "<Figure size 720x720 with 9 Axes>"
      ]
     },
     "metadata": {
      "needs_background": "light"
     },
     "output_type": "display_data"
    }
   ],
   "source": [
    "weather.hist(figsize = (10,10))\n",
    "\n",
    "# climat assez tempéré / plutôt humide / pression importante / visibilité 10,11,15,16 / wind_bearing ne faiblit pas sous 400 / \n",
    "# vent assez faible"
   ]
  },
  {
   "cell_type": "markdown",
   "metadata": {},
   "source": [
    "# Matrice de corrélation"
   ]
  },
  {
   "cell_type": "code",
   "execution_count": 34,
   "metadata": {},
   "outputs": [
    {
     "data": {
      "text/html": [
       "<div>\n",
       "<style scoped>\n",
       "    .dataframe tbody tr th:only-of-type {\n",
       "        vertical-align: middle;\n",
       "    }\n",
       "\n",
       "    .dataframe tbody tr th {\n",
       "        vertical-align: top;\n",
       "    }\n",
       "\n",
       "    .dataframe thead th {\n",
       "        text-align: right;\n",
       "    }\n",
       "</style>\n",
       "<table border=\"1\" class=\"dataframe\">\n",
       "  <thead>\n",
       "    <tr style=\"text-align: right;\">\n",
       "      <th></th>\n",
       "      <th>temperatureM24</th>\n",
       "      <th>humidity</th>\n",
       "      <th>wind_speed</th>\n",
       "      <th>wind_bearing</th>\n",
       "      <th>visibility</th>\n",
       "      <th>pressure</th>\n",
       "      <th>temperature</th>\n",
       "    </tr>\n",
       "  </thead>\n",
       "  <tbody>\n",
       "    <tr>\n",
       "      <th>temperatureM24</th>\n",
       "      <td>1.000000</td>\n",
       "      <td>-0.632179</td>\n",
       "      <td>0.008947</td>\n",
       "      <td>0.029988</td>\n",
       "      <td>0.392724</td>\n",
       "      <td>-0.005403</td>\n",
       "      <td>0.945473</td>\n",
       "    </tr>\n",
       "    <tr>\n",
       "      <th>humidity</th>\n",
       "      <td>-0.632179</td>\n",
       "      <td>1.000000</td>\n",
       "      <td>-0.224959</td>\n",
       "      <td>0.000738</td>\n",
       "      <td>-0.369085</td>\n",
       "      <td>0.005426</td>\n",
       "      <td>-0.590944</td>\n",
       "    </tr>\n",
       "    <tr>\n",
       "      <th>wind_speed</th>\n",
       "      <td>0.008947</td>\n",
       "      <td>-0.224959</td>\n",
       "      <td>1.000000</td>\n",
       "      <td>0.103820</td>\n",
       "      <td>0.100752</td>\n",
       "      <td>-0.049263</td>\n",
       "      <td>-0.046741</td>\n",
       "    </tr>\n",
       "    <tr>\n",
       "      <th>wind_bearing</th>\n",
       "      <td>0.029988</td>\n",
       "      <td>0.000738</td>\n",
       "      <td>0.103820</td>\n",
       "      <td>1.000000</td>\n",
       "      <td>0.047589</td>\n",
       "      <td>-0.011650</td>\n",
       "      <td>0.016383</td>\n",
       "    </tr>\n",
       "    <tr>\n",
       "      <th>visibility</th>\n",
       "      <td>0.392724</td>\n",
       "      <td>-0.369085</td>\n",
       "      <td>0.100752</td>\n",
       "      <td>0.047589</td>\n",
       "      <td>1.000000</td>\n",
       "      <td>0.059850</td>\n",
       "      <td>0.366624</td>\n",
       "    </tr>\n",
       "    <tr>\n",
       "      <th>pressure</th>\n",
       "      <td>-0.005403</td>\n",
       "      <td>0.005426</td>\n",
       "      <td>-0.049263</td>\n",
       "      <td>-0.011650</td>\n",
       "      <td>0.059850</td>\n",
       "      <td>1.000000</td>\n",
       "      <td>-0.000290</td>\n",
       "    </tr>\n",
       "    <tr>\n",
       "      <th>temperature</th>\n",
       "      <td>0.945473</td>\n",
       "      <td>-0.590944</td>\n",
       "      <td>-0.046741</td>\n",
       "      <td>0.016383</td>\n",
       "      <td>0.366624</td>\n",
       "      <td>-0.000290</td>\n",
       "      <td>1.000000</td>\n",
       "    </tr>\n",
       "  </tbody>\n",
       "</table>\n",
       "</div>"
      ],
      "text/plain": [
       "                temperatureM24  humidity  wind_speed  wind_bearing  \\\n",
       "temperatureM24        1.000000 -0.632179    0.008947      0.029988   \n",
       "humidity             -0.632179  1.000000   -0.224959      0.000738   \n",
       "wind_speed            0.008947 -0.224959    1.000000      0.103820   \n",
       "wind_bearing          0.029988  0.000738    0.103820      1.000000   \n",
       "visibility            0.392724 -0.369085    0.100752      0.047589   \n",
       "pressure             -0.005403  0.005426   -0.049263     -0.011650   \n",
       "temperature           0.945473 -0.590944   -0.046741      0.016383   \n",
       "\n",
       "                visibility  pressure  temperature  \n",
       "temperatureM24    0.392724 -0.005403     0.945473  \n",
       "humidity         -0.369085  0.005426    -0.590944  \n",
       "wind_speed        0.100752 -0.049263    -0.046741  \n",
       "wind_bearing      0.047589 -0.011650     0.016383  \n",
       "visibility        1.000000  0.059850     0.366624  \n",
       "pressure          0.059850  1.000000    -0.000290  \n",
       "temperature       0.366624 -0.000290     1.000000  "
      ]
     },
     "execution_count": 34,
     "metadata": {},
     "output_type": "execute_result"
    }
   ],
   "source": [
    "weather.corr()"
   ]
  },
  {
   "cell_type": "code",
   "execution_count": 35,
   "metadata": {},
   "outputs": [
    {
     "data": {
      "text/plain": [
       "Text(0.5, 1.0, 'Matrice de corrélation entre les différentes caractéristiques de weather\\n')"
      ]
     },
     "execution_count": 35,
     "metadata": {},
     "output_type": "execute_result"
    },
    {
     "data": {
      "image/png": "[encoded data removed]",
      "text/plain": [
       "<Figure size 432x288 with 2 Axes>"
      ]
     },
     "metadata": {
      "needs_background": "light"
     },
     "output_type": "display_data"
    }
   ],
   "source": [
    "import matplotlib.pyplot as plt\n",
    "import seaborn as sns\n",
    "\n",
    "sns.heatmap(weather.corr(), annot=True, cmap='Blues')\n",
    "plt.title(\"Matrice de corrélation entre les différentes caractéristiques de weather\\n\", fontsize=18, color='Blue')\n",
    "\n",
    "# Forte corrélation entre temperature et temperature M24 puis temperature et visibilité"
   ]
  },
  {
   "cell_type": "markdown",
   "metadata": {},
   "source": [
    "# Représentation de la température moyenne"
   ]
  },
  {
   "cell_type": "code",
   "execution_count": 36,
   "metadata": {},
   "outputs": [],
   "source": [
    "# Création colonnes année\n",
    "weather[\"year\"] = weather[\"date\"].dt.year"
   ]
  },
  {
   "cell_type": "code",
   "execution_count": 37,
   "metadata": {},
   "outputs": [],
   "source": [
    "# Création colonnes mois\n",
    "weather[\"month\"] = weather[\"date\"].dt.month"
   ]
  },
  {
   "cell_type": "code",
   "execution_count": 38,
   "metadata": {},
   "outputs": [
    {
     "data": {
      "text/html": [
       "<div>\n",
       "<style scoped>\n",
       "    .dataframe tbody tr th:only-of-type {\n",
       "        vertical-align: middle;\n",
       "    }\n",
       "\n",
       "    .dataframe tbody tr th {\n",
       "        vertical-align: top;\n",
       "    }\n",
       "\n",
       "    .dataframe thead th {\n",
       "        text-align: right;\n",
       "    }\n",
       "</style>\n",
       "<table border=\"1\" class=\"dataframe\">\n",
       "  <thead>\n",
       "    <tr style=\"text-align: right;\">\n",
       "      <th>year</th>\n",
       "      <th>2005</th>\n",
       "      <th>2006</th>\n",
       "      <th>2007</th>\n",
       "      <th>2008</th>\n",
       "      <th>2009</th>\n",
       "      <th>2010</th>\n",
       "      <th>2011</th>\n",
       "      <th>2012</th>\n",
       "      <th>2013</th>\n",
       "      <th>2014</th>\n",
       "      <th>2015</th>\n",
       "      <th>2016</th>\n",
       "    </tr>\n",
       "    <tr>\n",
       "      <th>month</th>\n",
       "      <th></th>\n",
       "      <th></th>\n",
       "      <th></th>\n",
       "      <th></th>\n",
       "      <th></th>\n",
       "      <th></th>\n",
       "      <th></th>\n",
       "      <th></th>\n",
       "      <th></th>\n",
       "      <th></th>\n",
       "      <th></th>\n",
       "      <th></th>\n",
       "    </tr>\n",
       "  </thead>\n",
       "  <tbody>\n",
       "    <tr>\n",
       "      <th>1</th>\n",
       "      <td>NaN</td>\n",
       "      <td>-1.872334</td>\n",
       "      <td>4.941674</td>\n",
       "      <td>1.119198</td>\n",
       "      <td>-0.968369</td>\n",
       "      <td>-1.753726</td>\n",
       "      <td>0.162470</td>\n",
       "      <td>0.916644</td>\n",
       "      <td>1.487351</td>\n",
       "      <td>2.584954</td>\n",
       "      <td>2.535335</td>\n",
       "      <td>0.274724</td>\n",
       "    </tr>\n",
       "    <tr>\n",
       "      <th>2</th>\n",
       "      <td>NaN</td>\n",
       "      <td>-0.086425</td>\n",
       "      <td>5.052604</td>\n",
       "      <td>4.281849</td>\n",
       "      <td>2.033333</td>\n",
       "      <td>1.929282</td>\n",
       "      <td>-0.037409</td>\n",
       "      <td>-4.741339</td>\n",
       "      <td>2.990327</td>\n",
       "      <td>5.362293</td>\n",
       "      <td>2.659301</td>\n",
       "      <td>6.376772</td>\n",
       "    </tr>\n",
       "    <tr>\n",
       "      <th>3</th>\n",
       "      <td>NaN</td>\n",
       "      <td>5.050343</td>\n",
       "      <td>8.408333</td>\n",
       "      <td>7.096602</td>\n",
       "      <td>6.903315</td>\n",
       "      <td>6.765599</td>\n",
       "      <td>6.389180</td>\n",
       "      <td>7.845594</td>\n",
       "      <td>4.627285</td>\n",
       "      <td>9.752666</td>\n",
       "      <td>7.311895</td>\n",
       "      <td>7.754749</td>\n",
       "    </tr>\n",
       "    <tr>\n",
       "      <th>4</th>\n",
       "      <td>NaN</td>\n",
       "      <td>12.619267</td>\n",
       "      <td>12.385756</td>\n",
       "      <td>12.055170</td>\n",
       "      <td>14.680239</td>\n",
       "      <td>12.494514</td>\n",
       "      <td>13.406443</td>\n",
       "      <td>13.127824</td>\n",
       "      <td>13.678225</td>\n",
       "      <td>13.061096</td>\n",
       "      <td>11.868349</td>\n",
       "      <td>13.288086</td>\n",
       "    </tr>\n",
       "    <tr>\n",
       "      <th>5</th>\n",
       "      <td>NaN</td>\n",
       "      <td>15.678569</td>\n",
       "      <td>17.775314</td>\n",
       "      <td>17.412298</td>\n",
       "      <td>17.811313</td>\n",
       "      <td>16.477897</td>\n",
       "      <td>17.130130</td>\n",
       "      <td>17.048126</td>\n",
       "      <td>16.925680</td>\n",
       "      <td>15.904861</td>\n",
       "      <td>17.277158</td>\n",
       "      <td>16.489471</td>\n",
       "    </tr>\n",
       "    <tr>\n",
       "      <th>6</th>\n",
       "      <td>NaN</td>\n",
       "      <td>19.557353</td>\n",
       "      <td>22.119020</td>\n",
       "      <td>21.557315</td>\n",
       "      <td>19.845417</td>\n",
       "      <td>20.601466</td>\n",
       "      <td>20.990332</td>\n",
       "      <td>22.570617</td>\n",
       "      <td>20.273719</td>\n",
       "      <td>20.125741</td>\n",
       "      <td>20.517477</td>\n",
       "      <td>21.513534</td>\n",
       "    </tr>\n",
       "    <tr>\n",
       "      <th>7</th>\n",
       "      <td>NaN</td>\n",
       "      <td>23.803584</td>\n",
       "      <td>23.591764</td>\n",
       "      <td>21.991278</td>\n",
       "      <td>23.332452</td>\n",
       "      <td>23.116069</td>\n",
       "      <td>21.635215</td>\n",
       "      <td>24.420490</td>\n",
       "      <td>22.783109</td>\n",
       "      <td>22.065250</td>\n",
       "      <td>23.675217</td>\n",
       "      <td>22.715644</td>\n",
       "    </tr>\n",
       "    <tr>\n",
       "      <th>8</th>\n",
       "      <td>NaN</td>\n",
       "      <td>19.147327</td>\n",
       "      <td>23.264710</td>\n",
       "      <td>22.407699</td>\n",
       "      <td>22.794855</td>\n",
       "      <td>21.387124</td>\n",
       "      <td>23.070019</td>\n",
       "      <td>23.627337</td>\n",
       "      <td>23.019743</td>\n",
       "      <td>20.624388</td>\n",
       "      <td>23.998111</td>\n",
       "      <td>21.322424</td>\n",
       "    </tr>\n",
       "    <tr>\n",
       "      <th>9</th>\n",
       "      <td>NaN</td>\n",
       "      <td>18.254645</td>\n",
       "      <td>14.431767</td>\n",
       "      <td>15.677909</td>\n",
       "      <td>19.326968</td>\n",
       "      <td>15.404583</td>\n",
       "      <td>19.860872</td>\n",
       "      <td>19.365139</td>\n",
       "      <td>15.115378</td>\n",
       "      <td>17.137955</td>\n",
       "      <td>17.843958</td>\n",
       "      <td>18.365278</td>\n",
       "    </tr>\n",
       "    <tr>\n",
       "      <th>10</th>\n",
       "      <td>NaN</td>\n",
       "      <td>12.401172</td>\n",
       "      <td>10.169975</td>\n",
       "      <td>12.632034</td>\n",
       "      <td>10.936499</td>\n",
       "      <td>8.871199</td>\n",
       "      <td>9.924813</td>\n",
       "      <td>11.769310</td>\n",
       "      <td>12.964598</td>\n",
       "      <td>12.385275</td>\n",
       "      <td>10.393795</td>\n",
       "      <td>9.597013</td>\n",
       "    </tr>\n",
       "    <tr>\n",
       "      <th>11</th>\n",
       "      <td>NaN</td>\n",
       "      <td>7.217870</td>\n",
       "      <td>3.662122</td>\n",
       "      <td>6.943565</td>\n",
       "      <td>7.914583</td>\n",
       "      <td>8.322986</td>\n",
       "      <td>2.205177</td>\n",
       "      <td>7.698542</td>\n",
       "      <td>7.481883</td>\n",
       "      <td>7.756543</td>\n",
       "      <td>6.854622</td>\n",
       "      <td>5.117724</td>\n",
       "    </tr>\n",
       "    <tr>\n",
       "      <th>12</th>\n",
       "      <td>5.422222</td>\n",
       "      <td>2.121483</td>\n",
       "      <td>-1.046797</td>\n",
       "      <td>2.529458</td>\n",
       "      <td>2.452606</td>\n",
       "      <td>-0.484872</td>\n",
       "      <td>2.967824</td>\n",
       "      <td>-0.526941</td>\n",
       "      <td>1.565659</td>\n",
       "      <td>2.863762</td>\n",
       "      <td>2.192257</td>\n",
       "      <td>1.185821</td>\n",
       "    </tr>\n",
       "  </tbody>\n",
       "</table>\n",
       "</div>"
      ],
      "text/plain": [
       "year       2005       2006       2007       2008       2009       2010  \\\n",
       "month                                                                    \n",
       "1           NaN  -1.872334   4.941674   1.119198  -0.968369  -1.753726   \n",
       "2           NaN  -0.086425   5.052604   4.281849   2.033333   1.929282   \n",
       "3           NaN   5.050343   8.408333   7.096602   6.903315   6.765599   \n",
       "4           NaN  12.619267  12.385756  12.055170  14.680239  12.494514   \n",
       "5           NaN  15.678569  17.775314  17.412298  17.811313  16.477897   \n",
       "6           NaN  19.557353  22.119020  21.557315  19.845417  20.601466   \n",
       "7           NaN  23.803584  23.591764  21.991278  23.332452  23.116069   \n",
       "8           NaN  19.147327  23.264710  22.407699  22.794855  21.387124   \n",
       "9           NaN  18.254645  14.431767  15.677909  19.326968  15.404583   \n",
       "10          NaN  12.401172  10.169975  12.632034  10.936499   8.871199   \n",
       "11          NaN   7.217870   3.662122   6.943565   7.914583   8.322986   \n",
       "12     5.422222   2.121483  -1.046797   2.529458   2.452606  -0.484872   \n",
       "\n",
       "year        2011       2012       2013       2014       2015       2016  \n",
       "month                                                                    \n",
       "1       0.162470   0.916644   1.487351   2.584954   2.535335   0.274724  \n",
       "2      -0.037409  -4.741339   2.990327   5.362293   2.659301   6.376772  \n",
       "3       6.389180   7.845594   4.627285   9.752666   7.311895   7.754749  \n",
       "4      13.406443  13.127824  13.678225  13.061096  11.868349  13.288086  \n",
       "5      17.130130  17.048126  16.925680  15.904861  17.277158  16.489471  \n",
       "6      20.990332  22.570617  20.273719  20.125741  20.517477  21.513534  \n",
       "7      21.635215  24.420490  22.783109  22.065250  23.675217  22.715644  \n",
       "8      23.070019  23.627337  23.019743  20.624388  23.998111  21.322424  \n",
       "9      19.860872  19.365139  15.115378  17.137955  17.843958  18.365278  \n",
       "10      9.924813  11.769310  12.964598  12.385275  10.393795   9.597013  \n",
       "11      2.205177   7.698542   7.481883   7.756543   6.854622   5.117724  \n",
       "12      2.967824  -0.526941   1.565659   2.863762   2.192257   1.185821  "
      ]
     },
     "execution_count": 38,
     "metadata": {},
     "output_type": "execute_result"
    }
   ],
   "source": [
    "# Température moyenne par année et mois\n",
    "weather.groupby(['year','month']).mean()['temperature'].unstack(level = 0)\n",
    "\n",
    "# Nous nous rendons compte que nous n'avons que les données à partir de décembre pour 2005"
   ]
  },
  {
   "cell_type": "code",
   "execution_count": 39,
   "metadata": {},
   "outputs": [
    {
     "data": {
      "text/plain": [
       "<matplotlib.axes._subplots.AxesSubplot at 0x1638365c190>"
      ]
     },
     "execution_count": 39,
     "metadata": {},
     "output_type": "execute_result"
    },
    {
     "data": {
      "image/png": "[encoded data removed]",
      "text/plain": [
       "<Figure size 432x288 with 1 Axes>"
      ]
     },
     "metadata": {
      "needs_background": "light"
     },
     "output_type": "display_data"
    }
   ],
   "source": [
    "# Température moyenne par mois\n",
    "temp_mois = weather.groupby('month').mean()['temperature']\n",
    "temp_mois.plot(kind='bar', subplots=False)"
   ]
  },
  {
   "cell_type": "code",
   "execution_count": 40,
   "metadata": {},
   "outputs": [
    {
     "data": {
      "text/plain": [
       "<matplotlib.axes._subplots.AxesSubplot at 0x163836d9910>"
      ]
     },
     "execution_count": 40,
     "metadata": {},
     "output_type": "execute_result"
    },
    {
     "data": {
      "image/png": "[encoded data removed]",
      "text/plain": [
       "<Figure size 432x288 with 1 Axes>"
      ]
     },
     "metadata": {
      "needs_background": "light"
     },
     "output_type": "display_data"
    }
   ],
   "source": [
    "# Température moyenne par année\n",
    "temp_annee = weather.groupby('year').mean()['temperature']\n",
    "temp_annee.plot(kind='bar', subplots=False)\n",
    "\n",
    "# Année 2005 biaisée, car ne contient que les données de décembre.\n",
    "# Année 2010 la plus fraiche"
   ]
  },
  {
   "cell_type": "code",
   "execution_count": 20,
   "metadata": {},
   "outputs": [
    {
     "data": {
      "image/png": "[encoded data removed]",
      "text/plain": [
       "<Figure size 432x288 with 1 Axes>"
      ]
     },
     "metadata": {
      "needs_background": "light"
     },
     "output_type": "display_data"
    }
   ],
   "source": [
    "# Température moyenne par année et mois\n",
    "temp_annee = weather.groupby(['year','month']).mean()['temperature'].unstack(level = 0)\n",
    "\n",
    "temp_annee.plot(kind = 'line', subplots = False)\n",
    "plt.tight_layout() #place les légendes à des endroits plus pertinents"
   ]
  },
  {
   "cell_type": "code",
   "execution_count": 21,
   "metadata": {},
   "outputs": [
    {
     "data": {
      "image/png": "[encoded data removed]",
      "text/plain": [
       "<Figure size 432x288 with 1 Axes>"
      ]
     },
     "metadata": {
      "needs_background": "light"
     },
     "output_type": "display_data"
    }
   ],
   "source": [
    "temp_annee.plot(kind='bar', subplots=False)\n",
    "plt.tight_layout()"
   ]
  },
  {
   "cell_type": "code",
   "execution_count": 56,
   "metadata": {},
   "outputs": [
    {
     "data": {
      "text/html": [
       "<div>\n",
       "<style scoped>\n",
       "    .dataframe tbody tr th:only-of-type {\n",
       "        vertical-align: middle;\n",
       "    }\n",
       "\n",
       "    .dataframe tbody tr th {\n",
       "        vertical-align: top;\n",
       "    }\n",
       "\n",
       "    .dataframe thead th {\n",
       "        text-align: right;\n",
       "    }\n",
       "</style>\n",
       "<table border=\"1\" class=\"dataframe\">\n",
       "  <thead>\n",
       "    <tr style=\"text-align: right;\">\n",
       "      <th>quarter</th>\n",
       "      <th>1</th>\n",
       "      <th>2</th>\n",
       "      <th>3</th>\n",
       "      <th>4</th>\n",
       "    </tr>\n",
       "    <tr>\n",
       "      <th>year</th>\n",
       "      <th></th>\n",
       "      <th></th>\n",
       "      <th></th>\n",
       "      <th></th>\n",
       "    </tr>\n",
       "  </thead>\n",
       "  <tbody>\n",
       "    <tr>\n",
       "      <th>2005</th>\n",
       "      <td>NaN</td>\n",
       "      <td>NaN</td>\n",
       "      <td>NaN</td>\n",
       "      <td>5.422222</td>\n",
       "    </tr>\n",
       "    <tr>\n",
       "      <th>2006</th>\n",
       "      <td>1.067760</td>\n",
       "      <td>15.948728</td>\n",
       "      <td>20.425191</td>\n",
       "      <td>7.247157</td>\n",
       "    </tr>\n",
       "    <tr>\n",
       "      <th>2007</th>\n",
       "      <td>6.170257</td>\n",
       "      <td>17.430528</td>\n",
       "      <td>20.494605</td>\n",
       "      <td>4.268285</td>\n",
       "    </tr>\n",
       "    <tr>\n",
       "      <th>2008</th>\n",
       "      <td>4.163334</td>\n",
       "      <td>17.012701</td>\n",
       "      <td>20.072886</td>\n",
       "      <td>7.372970</td>\n",
       "    </tr>\n",
       "    <tr>\n",
       "      <th>2009</th>\n",
       "      <td>2.676852</td>\n",
       "      <td>17.449674</td>\n",
       "      <td>21.845169</td>\n",
       "      <td>7.092389</td>\n",
       "    </tr>\n",
       "    <tr>\n",
       "      <th>2010</th>\n",
       "      <td>2.326533</td>\n",
       "      <td>16.524112</td>\n",
       "      <td>20.033587</td>\n",
       "      <td>5.539845</td>\n",
       "    </tr>\n",
       "    <tr>\n",
       "      <th>2011</th>\n",
       "      <td>2.245041</td>\n",
       "      <td>17.175135</td>\n",
       "      <td>21.540092</td>\n",
       "      <td>5.063338</td>\n",
       "    </tr>\n",
       "    <tr>\n",
       "      <th>2012</th>\n",
       "      <td>1.473962</td>\n",
       "      <td>17.576320</td>\n",
       "      <td>22.504748</td>\n",
       "      <td>6.298583</td>\n",
       "    </tr>\n",
       "    <tr>\n",
       "      <th>2013</th>\n",
       "      <td>3.036476</td>\n",
       "      <td>16.958840</td>\n",
       "      <td>20.362497</td>\n",
       "      <td>7.335809</td>\n",
       "    </tr>\n",
       "    <tr>\n",
       "      <th>2014</th>\n",
       "      <td>5.917894</td>\n",
       "      <td>16.358855</td>\n",
       "      <td>19.970169</td>\n",
       "      <td>7.667570</td>\n",
       "    </tr>\n",
       "    <tr>\n",
       "      <th>2015</th>\n",
       "      <td>4.219162</td>\n",
       "      <td>16.562271</td>\n",
       "      <td>21.882521</td>\n",
       "      <td>6.476155</td>\n",
       "    </tr>\n",
       "    <tr>\n",
       "      <th>2016</th>\n",
       "      <td>4.767473</td>\n",
       "      <td>17.090354</td>\n",
       "      <td>20.827592</td>\n",
       "      <td>5.349310</td>\n",
       "    </tr>\n",
       "  </tbody>\n",
       "</table>\n",
       "</div>"
      ],
      "text/plain": [
       "quarter         1          2          3         4\n",
       "year                                             \n",
       "2005          NaN        NaN        NaN  5.422222\n",
       "2006     1.067760  15.948728  20.425191  7.247157\n",
       "2007     6.170257  17.430528  20.494605  4.268285\n",
       "2008     4.163334  17.012701  20.072886  7.372970\n",
       "2009     2.676852  17.449674  21.845169  7.092389\n",
       "2010     2.326533  16.524112  20.033587  5.539845\n",
       "2011     2.245041  17.175135  21.540092  5.063338\n",
       "2012     1.473962  17.576320  22.504748  6.298583\n",
       "2013     3.036476  16.958840  20.362497  7.335809\n",
       "2014     5.917894  16.358855  19.970169  7.667570\n",
       "2015     4.219162  16.562271  21.882521  6.476155\n",
       "2016     4.767473  17.090354  20.827592  5.349310"
      ]
     },
     "execution_count": 56,
     "metadata": {},
     "output_type": "execute_result"
    }
   ],
   "source": [
    "# Création colonne trimestre\n",
    "weather[\"quarter\"] = weather[\"date\"].dt.quarter\n",
    "weather.head()\n",
    "\n",
    "# Température moyenne par année et trimestre (pour une meilleure lisibilité)\n",
    "temp_anneetrim = weather.groupby(['quarter','year']).mean()['temperature'].unstack(level = 0)\n",
    "temp_anneetrim"
   ]
  },
  {
   "cell_type": "code",
   "execution_count": 57,
   "metadata": {},
   "outputs": [
    {
     "data": {
      "image/png": "[encoded data removed]",
      "text/plain": [
       "<Figure size 432x288 with 1 Axes>"
      ]
     },
     "metadata": {
      "needs_background": "light"
     },
     "output_type": "display_data"
    }
   ],
   "source": [
    "temp_anneetrim.plot(kind='bar', subplots=False)\n",
    "plt.tight_layout()"
   ]
  },
  {
   "cell_type": "code",
   "execution_count": 72,
   "metadata": {},
   "outputs": [
    {
     "data": {
      "text/plain": [
       "<matplotlib.axes._subplots.AxesSubplot at 0x16381aab970>"
      ]
     },
     "execution_count": 72,
     "metadata": {},
     "output_type": "execute_result"
    },
    {
     "data": {
      "image/png": "[encoded data removed]",
      "text/plain": [
       "<Figure size 432x288 with 1 Axes>"
      ]
     },
     "metadata": {
      "needs_background": "light"
     },
     "output_type": "display_data"
    }
   ],
   "source": [
    "# Faire un box plot de la taille de Sépal par espèce.\n",
    "weather_temp_quarter = weather[['temperature', 'quarter']]\n",
    "weather_temp_quarter.boxplot(by = 'quarter')"
   ]
  },
  {
   "cell_type": "markdown",
   "metadata": {},
   "source": [
    "# Nombre de jours de pluie par année"
   ]
  },
  {
   "cell_type": "code",
   "execution_count": 102,
   "metadata": {},
   "outputs": [
    {
     "data": {
      "text/plain": [
       "year\n",
       "2005      0.041667\n",
       "2006    311.166667\n",
       "2007    333.958333\n",
       "2008    332.708333\n",
       "2009    322.583333\n",
       "2010    310.583333\n",
       "2011    306.750000\n",
       "2012    305.916667\n",
       "2013    322.291667\n",
       "2014    344.666667\n",
       "2015    338.833333\n",
       "2016    321.041667\n",
       "Name: precip_type, dtype: float64"
      ]
     },
     "execution_count": 102,
     "metadata": {},
     "output_type": "execute_result"
    }
   ],
   "source": [
    "weather_pluie = weather[weather.precip_type == 'rain']\n",
    "weather_pluie = weather_pluie.groupby(['year']).count()['precip_type']/24\n",
    "weather_pluie"
   ]
  },
  {
   "cell_type": "code",
   "execution_count": 103,
   "metadata": {},
   "outputs": [
    {
     "data": {
      "image/png": "[encoded data removed]",
      "text/plain": [
       "<Figure size 432x288 with 1 Axes>"
      ]
     },
     "metadata": {
      "needs_background": "light"
     },
     "output_type": "display_data"
    }
   ],
   "source": [
    "weather_pluie.plot(kind='bar', subplots=False)\n",
    "plt.tight_layout()"
   ]
  },
  {
   "cell_type": "markdown",
   "metadata": {},
   "source": [
    "# Nombre de jours de neige par année"
   ]
  },
  {
   "cell_type": "code",
   "execution_count": 104,
   "metadata": {},
   "outputs": [
    {
     "data": {
      "text/plain": [
       "year\n",
       "2006    53.833333\n",
       "2007    31.041667\n",
       "2008    33.291667\n",
       "2009    42.416667\n",
       "2010    55.416667\n",
       "2011    58.250000\n",
       "2012    54.125000\n",
       "2013    42.708333\n",
       "2014    20.208333\n",
       "2015    26.166667\n",
       "2016    28.333333\n",
       "Name: precip_type, dtype: float64"
      ]
     },
     "execution_count": 104,
     "metadata": {},
     "output_type": "execute_result"
    }
   ],
   "source": [
    "weather_neige = weather[weather.precip_type == 'snow']\n",
    "weather_neige = weather_neige.groupby(['year']).count()['precip_type']/24\n",
    "weather_neige"
   ]
  },
  {
   "cell_type": "code",
   "execution_count": 106,
   "metadata": {},
   "outputs": [
    {
     "data": {
      "image/png": "[encoded data removed]",
      "text/plain": [
       "<Figure size 432x288 with 1 Axes>"
      ]
     },
     "metadata": {
      "needs_background": "light"
     },
     "output_type": "display_data"
    }
   ],
   "source": [
    "weather_neige.plot(kind='bar', subplots=False)\n",
    "plt.tight_layout()"
   ]
  },
  {
   "cell_type": "markdown",
   "metadata": {},
   "source": [
    "# Représentation de la vitesse du vent par mois"
   ]
  },
  {
   "cell_type": "code",
   "execution_count": 23,
   "metadata": {},
   "outputs": [
    {
     "data": {
      "image/png": "[encoded data removed]",
      "text/plain": [
       "<Figure size 576x288 with 1 Axes>"
      ]
     },
     "metadata": {
      "needs_background": "light"
     },
     "output_type": "display_data"
    }
   ],
   "source": [
    "temp_mois = weather[['wind_speed','month']].groupby('month').mean().round().sort_values(by='wind_speed', ascending=False)\n",
    "temp_mois.reset_index(0, inplace=True)\n",
    "temp_mois.head()\n",
    "\n",
    "\n",
    "plt.figure(figsize=(8,4))\n",
    "sns.barplot(x=temp_mois['month'], y=temp_mois['wind_speed'], palette=\"Blues_r\")\n",
    "plt.xlabel('\\nMois', fontsize=15, color='#2980b9')\n",
    "plt.ylabel('Vitesse du vent\\n', fontsize=15, color='#2980b9')\n",
    "plt.title(\"Vitesse moyenne du vent par mois\\n\", fontsize=18, color='#3742fa')\n",
    "plt.xticks(rotation= 45)\n",
    "plt.tight_layout()"
   ]
  },
  {
   "cell_type": "code",
   "execution_count": null,
   "metadata": {},
   "outputs": [],
   "source": []
  }
 ],
 "metadata": {
  "kernelspec": {
   "display_name": "Python 3",
   "language": "python",
   "name": "python3"
  },
  "language_info": {
   "codemirror_mode": {
    "name": "ipython",
    "version": 3
   },
   "file_extension": ".py",
   "mimetype": "text/x-python",
   "name": "python",
   "nbconvert_exporter": "python",
   "pygments_lexer": "ipython3",
   "version": "3.8.3"
  }
 },
 "nbformat": 4,
 "nbformat_minor": 4
}
